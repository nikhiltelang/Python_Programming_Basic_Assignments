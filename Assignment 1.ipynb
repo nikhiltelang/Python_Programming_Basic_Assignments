{
 "cells": [
  {
   "cell_type": "markdown",
   "metadata": {},
   "source": [
    "<b>1. Write a python program to print \"Hello Python\"? <b>"
   ]
  },
  {
   "cell_type": "code",
   "execution_count": 1,
   "metadata": {},
   "outputs": [],
   "source": [
    "print(\"Hello Python\")"
   ]
  },
  {
   "cell_type": "markdown",
   "metadata": {},
   "source": [
    "<b>2. Write a python program to do arithmatic operation addition and division</b>"
   ]
  },
  {
   "cell_type": "code",
   "execution_count": 2,
   "metadata": {},
   "outputs": [
    {
     "name": "stdout",
     "output_type": "stream",
     "text": [
      "Addition =  30\n",
      "Division =  0.5\n"
     ]
    }
   ],
   "source": [
    "a,b=10,20\n",
    "print(\"Addition = \",a+b)\n",
    "print(\"Division = \",a/b)"
   ]
  },
  {
   "cell_type": "markdown",
   "metadata": {},
   "source": [
    "<b>3. Write a python program to find a area of triangle ?</b>"
   ]
  },
  {
   "cell_type": "code",
   "execution_count": 3,
   "metadata": {},
   "outputs": [
    {
     "name": "stdout",
     "output_type": "stream",
     "text": [
      "Enter first side 87\n",
      "Enter Second Side 98\n",
      "Enter Third side99\n",
      "Area of Triangle = 3844.0239333281993\n"
     ]
    }
   ],
   "source": [
    "a=int(input(\"Enter first side \"))\n",
    "b=int(input(\"Enter Second Side \"))\n",
    "c=int(input(\"Enter Third side\"))\n",
    "\n",
    "s=(a+b+c)/2\n",
    "\n",
    "area=(s*(s-a)*(s-b)*(s-c))**0.5\n",
    "print(\"Area of Triangle =\",area)"
   ]
  },
  {
   "cell_type": "markdown",
   "metadata": {},
   "source": [
    "<b>4. Write a python program to swap two variable</b>"
   ]
  },
  {
   "cell_type": "code",
   "execution_count": 4,
   "metadata": {},
   "outputs": [
    {
     "name": "stdout",
     "output_type": "stream",
     "text": [
      "before swappnig a=10 and b=20\n",
      "after swappnig a=20 and b=10\n"
     ]
    }
   ],
   "source": [
    "a=10\n",
    "b=20\n",
    "print(\"before swappnig a={} and b={}\".format(a,b))\n",
    "a,b=b,a\n",
    "print(\"after swappnig a={} and b={}\".format(a,b))"
   ]
  },
  {
   "cell_type": "markdown",
   "metadata": {},
   "source": [
    "<b>5. Write a python program to generate random number</b>"
   ]
  },
  {
   "cell_type": "code",
   "execution_count": 5,
   "metadata": {},
   "outputs": [
    {
     "name": "stdout",
     "output_type": "stream",
     "text": [
      "16\n"
     ]
    }
   ],
   "source": [
    "import random\n",
    "a=random.randint(0,20)\n",
    "print(a)"
   ]
  }
 ],
 "metadata": {
  "kernelspec": {
   "display_name": "Python 3",
   "language": "python",
   "name": "python3"
  },
  "language_info": {
   "codemirror_mode": {
    "name": "ipython",
    "version": 3
   },
   "file_extension": ".py",
   "mimetype": "text/x-python",
   "name": "python",
   "nbconvert_exporter": "python",
   "pygments_lexer": "ipython3",
   "version": "3.8.5"
  }
 },
 "nbformat": 4,
 "nbformat_minor": 4
}
