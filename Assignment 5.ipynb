{
 "cells": [
  {
   "cell_type": "markdown",
   "metadata": {},
   "source": [
    "<b>1. Write a Python Program to Find LCM?  </b>"
   ]
  },
  {
   "cell_type": "code",
   "execution_count": 1,
   "metadata": {},
   "outputs": [
    {
     "name": "stdout",
     "output_type": "stream",
     "text": [
      "Enter value for x12\n",
      "Enter value for y18\n",
      "36\n"
     ]
    }
   ],
   "source": [
    "x = int(input(\"Enter value for x\"))\n",
    "y= int(input(\"Enter value for y\"))\n",
    "\n",
    "if x > y:\n",
    "    greater = x\n",
    "else:\n",
    "    greater = y\n",
    " \n",
    "while True:\n",
    "    if greater % x == 0 and greater % y ==0:\n",
    "        lcm = greater\n",
    "        break\n",
    "    greater += 1\n",
    "print(lcm)"
   ]
  },
  {
   "cell_type": "markdown",
   "metadata": {},
   "source": [
    "<b>2. Write a Python Program to Find HCF?</b>"
   ]
  },
  {
   "cell_type": "code",
   "execution_count": 2,
   "metadata": {},
   "outputs": [
    {
     "name": "stdout",
     "output_type": "stream",
     "text": [
      "Enter value for x12\n",
      "Enter value for y18\n",
      "36\n"
     ]
    }
   ],
   "source": [
    "x = int(input(\"Enter value for x\"))\n",
    "y = int(input(\"Enter value for y\"))\n",
    "if x > y:\n",
    "    small = y\n",
    "else:\n",
    "    small = x\n",
    "\n",
    "while True:\n",
    "    if small %x==0 and small %y==0:\n",
    "        hcf=small\n",
    "        break\n",
    "    small +=1\n",
    "print(hcf)"
   ]
  },
  {
   "cell_type": "markdown",
   "metadata": {},
   "source": [
    "<b>3. Write a Python Program to Convert Decimal to Binary, Octal and Hexadecimal? </b>"
   ]
  },
  {
   "cell_type": "code",
   "execution_count": 13,
   "metadata": {},
   "outputs": [
    {
     "name": "stdout",
     "output_type": "stream",
     "text": [
      "Enter any number34\n",
      "0100010"
     ]
    }
   ],
   "source": [
    "n = int(input(\"Enter any number\"))\n",
    "def convertToBinary(n):\n",
    "    if n > 0:\n",
    "        convertToBinary(n//2)\n",
    "    print(n%2,end='')\n",
    "convertToBinary(n)\n",
    "def convertToOctal(n):\n",
    "    pass"
   ]
  },
  {
   "cell_type": "markdown",
   "metadata": {},
   "source": [
    "<b>4. Write a Python Program To Find ASCII value of a character?</b>."
   ]
  },
  {
   "cell_type": "code",
   "execution_count": 2,
   "metadata": {},
   "outputs": [
    {
     "name": "stdout",
     "output_type": "stream",
     "text": [
      "Enter a chara\n",
      "97\n"
     ]
    }
   ],
   "source": [
    "char = input(\"Enter a char\")\n",
    "print(ord(char))"
   ]
  },
  {
   "cell_type": "markdown",
   "metadata": {},
   "source": [
    "<b>5. Write a Python Program to Make a Simple Calculator with 4 basic mathematical operations ?</b>"
   ]
  },
  {
   "cell_type": "code",
   "execution_count": 3,
   "metadata": {},
   "outputs": [
    {
     "name": "stdout",
     "output_type": "stream",
     "text": [
      "enter value for a 12\n",
      "enter value for b 45\n",
      "Press 1 for addition, Press 2 for substraction, Press 3 for multiplication, Press 4 for division1\n",
      "addition of a and b is 57\n"
     ]
    }
   ],
   "source": [
    "a = int(input(\"enter value for a \"))\n",
    "b = int(input(\"enter value for b \"))\n",
    "operation = int(input(\"Press 1 for addition, Press 2 for substraction, Press 3 for multiplication, Press 4 for division\"))\n",
    "if operation == 1:\n",
    "    print(\"addition of a and b is\",a+b)\n",
    "elif operation == 2:\n",
    "    print(\"Substraction of a and b is\",a-b)\n",
    "elif operation == 3:\n",
    "    print(\"Multiplication of a and b is\",a*b)\n",
    "elif operation == 4:\n",
    "    print(\"Division of a and b is\",a/b)\n",
    "else:\n",
    "    print(\"something is wrong\")"
   ]
  }
 ],
 "metadata": {
  "kernelspec": {
   "display_name": "Python 3",
   "language": "python",
   "name": "python3"
  },
  "language_info": {
   "codemirror_mode": {
    "name": "ipython",
    "version": 3
   },
   "file_extension": ".py",
   "mimetype": "text/x-python",
   "name": "python",
   "nbconvert_exporter": "python",
   "pygments_lexer": "ipython3",
   "version": "3.8.5"
  }
 },
 "nbformat": 4,
 "nbformat_minor": 4
}
