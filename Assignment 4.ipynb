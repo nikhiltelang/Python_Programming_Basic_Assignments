{
 "cells": [
  {
   "cell_type": "markdown",
   "metadata": {},
   "source": [
    "<b>1. Write a Python Program to Find the Factorial of a Number?</b>"
   ]
  },
  {
   "cell_type": "code",
   "execution_count": 7,
   "metadata": {},
   "outputs": [
    {
     "name": "stdout",
     "output_type": "stream",
     "text": [
      "Enter a Number 5\n",
      "Factorial number of 5 is 120\n"
     ]
    }
   ],
   "source": [
    "a=int(input(\"Enter a Number \"))\n",
    "fact=1\n",
    "for i in range(1,a+1):\n",
    "    fact=fact*i\n",
    "    \n",
    "print(\"Factorial number of {} is {}\".format(a,fact))"
   ]
  },
  {
   "cell_type": "markdown",
   "metadata": {},
   "source": [
    "<b>2. Write a Python Program to Display the multiplication Table?  </b>"
   ]
  },
  {
   "cell_type": "code",
   "execution_count": 10,
   "metadata": {},
   "outputs": [
    {
     "name": "stdout",
     "output_type": "stream",
     "text": [
      "Enter a number9\n",
      "0\n",
      "9\n",
      "18\n",
      "27\n",
      "36\n",
      "45\n",
      "54\n",
      "63\n",
      "72\n",
      "81\n",
      "90\n"
     ]
    }
   ],
   "source": [
    "a=int(input(\"Enter a number\"))\n",
    "for i in range(11):\n",
    "    print(a*i)"
   ]
  },
  {
   "cell_type": "markdown",
   "metadata": {},
   "source": [
    "<b>3. Write a Python Program to Print the Fibonacci sequence?</b>"
   ]
  },
  {
   "cell_type": "code",
   "execution_count": 11,
   "metadata": {},
   "outputs": [
    {
     "name": "stdout",
     "output_type": "stream",
     "text": [
      "Enter any number10\n",
      "0\n",
      "1\n",
      "1\n",
      "2\n",
      "3\n",
      "5\n",
      "8\n",
      "13\n",
      "21\n",
      "34\n",
      "55\n"
     ]
    }
   ],
   "source": [
    "a=0\n",
    "b=1\n",
    "sum=0\n",
    "fib=int(input(\"Enter any number\"))\n",
    "for i in range(fib+1):\n",
    "    print(sum)\n",
    "    a=b\n",
    "    b=sum\n",
    "    sum=a+b"
   ]
  },
  {
   "cell_type": "markdown",
   "metadata": {},
   "source": [
    "<b>4. Write a Python Program to Check Armstrong Number?  </b>"
   ]
  },
  {
   "cell_type": "code",
   "execution_count": 6,
   "metadata": {},
   "outputs": [
    {
     "name": "stdout",
     "output_type": "stream",
     "text": [
      "Enter a number9\n",
      "0 is an Armstrong number\n"
     ]
    }
   ],
   "source": [
    "a=int(input(\"Enter a number\"))\n",
    "sum = 0\n",
    "for i in range(a):\n",
    "    digit = a % 10\n",
    "    sum = digit * 3\n",
    "    a //=10\n",
    "if a == sum:  \n",
    "   print(a,\"is an Armstrong number\")  \n",
    "else:  \n",
    "   print(a,\"is not an Armstrong number\")  "
   ]
  },
  {
   "cell_type": "markdown",
   "metadata": {},
   "source": [
    "<b>5. Write a Python Program to Find Armstrong Number in an Interval?  <b/>"
   ]
  },
  {
   "cell_type": "code",
   "execution_count": 15,
   "metadata": {},
   "outputs": [
    {
     "name": "stdout",
     "output_type": "stream",
     "text": [
      "Enter a number153\n",
      "153 is not an armstrong number\n"
     ]
    }
   ],
   "source": [
    "a = int(input(\"Enter a number\"))\n",
    "n=a\n",
    "sum = 0\n",
    "while n > 0:\n",
    "    d = n % 10\n",
    "    s += d ** 3\n",
    "    n //= 10\n",
    "if n==s:\n",
    "    print(\"{} is a armstrong number\".format(a))\n",
    "else:\n",
    "    print(\"{} is not an armstrong number\".format(a))"
   ]
  },
  {
   "cell_type": "markdown",
   "metadata": {},
   "source": [
    "<b> 6. Write a Python Program to Find the Sum of Natural Numbers? </b>"
   ]
  },
  {
   "cell_type": "code",
   "execution_count": 18,
   "metadata": {},
   "outputs": [
    {
     "name": "stdout",
     "output_type": "stream",
     "text": [
      "Enter any positive number 13\n",
      "0\n",
      "1\n",
      "3\n",
      "6\n",
      "10\n",
      "15\n",
      "21\n",
      "28\n",
      "36\n",
      "45\n",
      "55\n",
      "66\n",
      "78\n"
     ]
    }
   ],
   "source": [
    "num = int(input(\"Enter any positive number \"))\n",
    "sum = 0\n",
    "if num<0:\n",
    "    print(\"Enter positive number\")\n",
    "else:\n",
    "    for i in range(num):\n",
    "        sum += i\n",
    "        \n",
    "        print(sum)"
   ]
  },
  {
   "cell_type": "code",
   "execution_count": null,
   "metadata": {},
   "outputs": [],
   "source": []
  }
 ],
 "metadata": {
  "kernelspec": {
   "display_name": "Python 3",
   "language": "python",
   "name": "python3"
  },
  "language_info": {
   "codemirror_mode": {
    "name": "ipython",
    "version": 3
   },
   "file_extension": ".py",
   "mimetype": "text/x-python",
   "name": "python",
   "nbconvert_exporter": "python",
   "pygments_lexer": "ipython3",
   "version": "3.8.5"
  }
 },
 "nbformat": 4,
 "nbformat_minor": 4
}
